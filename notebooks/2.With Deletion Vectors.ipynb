{
 "cells": [
  {
   "cell_type": "code",
   "execution_count": 2,
   "id": "022fd277-02c2-4b18-8376-22a6e8e75b41",
   "metadata": {},
   "outputs": [
    {
     "data": {
      "text/plain": [
       "import org.apache.spark.sql.types._\n",
       "yellowSchema: org.apache.spark.sql.types.StructType = StructType(StructField(VendorID,IntegerType,true),StructField(tpep_pickup_datetime,TimestampType,true),StructField(tpep_dropoff_datetime,TimestampType,true),StructField(passenger_count,LongType,true),StructField(trip_distance,DoubleType,true),StructField(RatecodeID,LongType,true),StructField(store_and_fwd_flag,StringType,true),StructField(PULocationID,IntegerType,true),StructField(DOLocationID,IntegerType,true),StructField(payment_type,LongType,true),StructField(fare_amount,DoubleType,true),StructField(extra,DoubleType,true),StructField(mta_tax,DoubleType,true),StructField(tip_amount,DoubleType,true),StructField(tolls_amount,DoubleType,true),StructField(improvement_surcharge,DoubleType,true),Struct...\n"
      ]
     },
     "execution_count": 2,
     "metadata": {},
     "output_type": "execute_result"
    }
   ],
   "source": [
    "import org.apache.spark.sql.types._\n",
    "\n",
    "val yellowSchema = StructType(Array(\n",
    "    StructField(\"VendorID\", IntegerType, true),\n",
    "    StructField(\"tpep_pickup_datetime\", TimestampType, true),\n",
    "    StructField(\"tpep_dropoff_datetime\", TimestampType, true),\n",
    "    StructField(\"passenger_count\", LongType, true),\n",
    "    StructField(\"trip_distance\", DoubleType, true),\n",
    "    StructField(\"RatecodeID\", LongType, true),\n",
    "    StructField(\"store_and_fwd_flag\", StringType, true),\n",
    "    StructField(\"PULocationID\", IntegerType, true),\n",
    "    StructField(\"DOLocationID\", IntegerType, true),\n",
    "    StructField(\"payment_type\", LongType, true),\n",
    "    StructField(\"fare_amount\", DoubleType, true),\n",
    "    StructField(\"extra\", DoubleType, true),\n",
    "    StructField(\"mta_tax\", DoubleType, true),\n",
    "    StructField(\"tip_amount\", DoubleType, true),\n",
    "    StructField(\"tolls_amount\", DoubleType, true),\n",
    "    StructField(\"improvement_surcharge\", DoubleType, true),\n",
    "    StructField(\"total_amount\", DoubleType, true),\n",
    "    StructField(\"congestion_surcharge\", DoubleType, true)\n",
    "))"
   ]
  },
  {
   "cell_type": "code",
   "execution_count": 3,
   "id": "8d17d9d5-edf0-4f20-a619-52aaae6ee6a4",
   "metadata": {
    "scrolled": true
   },
   "outputs": [
    {
     "data": {
      "text/plain": [
       "import spark.implicits._\n",
       "import org.apache.spark.sql.functions.current_timestamp\n",
       "import io.delta.tables._\n",
       "df: org.apache.spark.sql.DataFrame = [VendorID: int, tpep_pickup_datetime: timestamp ... 18 more fields]\n"
      ]
     },
     "execution_count": 3,
     "metadata": {},
     "output_type": "execute_result"
    }
   ],
   "source": [
    "import spark.implicits._\n",
    "import org.apache.spark.sql.functions.current_timestamp\n",
    "import io.delta.tables._\n",
    "\n",
    "val df = spark.read.schema(yellowSchema).parquet(\"sample_data/trips\").withColumn(\"insertion_ts\", current_timestamp()).withColumn(\"update_ts\", current_timestamp())"
   ]
  },
  {
   "cell_type": "code",
   "execution_count": 4,
   "id": "97e9cf8b-7b5f-464e-bef9-3e8e89893ac2",
   "metadata": {},
   "outputs": [
    {
     "name": "stdout",
     "output_type": "stream",
     "text": [
      "+--------+--------------------+---------------------+---------------+-------------+----------+------------------+------------+------------+------------+-----------+-----+-------+----------+------------+---------------------+------------+--------------------+--------------------------+--------------------------+\n",
      "|VendorID|tpep_pickup_datetime|tpep_dropoff_datetime|passenger_count|trip_distance|RatecodeID|store_and_fwd_flag|PULocationID|DOLocationID|payment_type|fare_amount|extra|mta_tax|tip_amount|tolls_amount|improvement_surcharge|total_amount|congestion_surcharge|insertion_ts              |update_ts                 |\n",
      "+--------+--------------------+---------------------+---------------+-------------+----------+------------------+------------+------------+------------+-----------+-----+-------+----------+------------+---------------------+------------+--------------------+--------------------------+--------------------------+\n",
      "|1       |2023-07-01 00:29:59 |2023-07-01 00:40:15  |1              |1.8          |1         |N                 |140         |263         |1           |12.1       |3.5  |0.5    |5.1       |0.0         |1.0                  |22.2        |2.5                 |2024-04-05 14:28:23.771418|2024-04-05 14:28:23.771418|\n",
      "|2       |2023-07-01 00:03:25 |2023-07-01 00:23:44  |1              |2.31         |1         |N                 |163         |163         |2           |19.1       |1.0  |0.5    |0.0       |0.0         |1.0                  |24.1        |2.5                 |2024-04-05 14:28:23.771418|2024-04-05 14:28:23.771418|\n",
      "|2       |2023-07-01 00:38:29 |2023-07-01 00:48:53  |1              |2.36         |1         |N                 |142         |262         |1           |13.5       |1.0  |0.5    |3.7       |0.0         |1.0                  |22.2        |2.5                 |2024-04-05 14:28:23.771418|2024-04-05 14:28:23.771418|\n",
      "|2       |2023-07-01 00:14:16 |2023-07-01 00:29:13  |1              |4.36         |1         |N                 |68          |24          |1           |19.8       |1.0  |0.5    |4.96      |0.0         |1.0                  |29.76       |2.5                 |2024-04-05 14:28:23.771418|2024-04-05 14:28:23.771418|\n",
      "|1       |2023-07-01 00:11:15 |2023-07-01 00:20:47  |0              |1.6          |1         |N                 |161         |107         |1           |11.4       |3.5  |0.5    |3.25      |0.0         |1.0                  |19.65       |2.5                 |2024-04-05 14:28:23.771418|2024-04-05 14:28:23.771418|\n",
      "|2       |2023-07-01 00:29:32 |2023-07-01 00:54:14  |1              |8.67         |1         |N                 |138         |186         |1           |38.7       |6.0  |0.5    |7.0       |6.55        |1.0                  |64.0        |2.5                 |2024-04-05 14:28:23.771418|2024-04-05 14:28:23.771418|\n",
      "|2       |2023-07-01 00:24:43 |2023-07-01 00:47:49  |1              |9.11         |1         |N                 |138         |230         |1           |39.4       |6.0  |0.5    |11.19     |6.55        |1.0                  |68.89       |2.5                 |2024-04-05 14:28:23.771418|2024-04-05 14:28:23.771418|\n",
      "|2       |2023-07-01 00:35:28 |2023-07-01 00:45:30  |1              |3.08         |1         |N                 |166         |244         |1           |14.9       |1.0  |0.5    |3.48      |0.0         |1.0                  |20.88       |0.0                 |2024-04-05 14:28:23.771418|2024-04-05 14:28:23.771418|\n",
      "|1       |2023-07-01 00:31:05 |2023-07-01 00:35:20  |0              |1.1          |1         |N                 |138         |70          |1           |7.9        |7.75 |0.5    |3.4       |0.0         |1.0                  |20.55       |0.0                 |2024-04-05 14:28:23.771418|2024-04-05 14:28:23.771418|\n",
      "|2       |2023-07-01 00:38:00 |2023-07-01 00:54:47  |3              |3.88         |1         |N                 |186         |24          |1           |19.8       |1.0  |0.5    |1.0       |0.0         |1.0                  |25.8        |2.5                 |2024-04-05 14:28:23.771418|2024-04-05 14:28:23.771418|\n",
      "|1       |2023-07-01 00:02:08 |2023-07-01 00:19:00  |1              |8.1          |1         |N                 |95          |7           |1           |33.8       |1.0  |0.5    |5.0       |0.0         |1.0                  |41.3        |0.0                 |2024-04-05 14:28:23.771418|2024-04-05 14:28:23.771418|\n",
      "|2       |2023-07-01 00:28:22 |2023-07-01 00:50:41  |1              |5.33         |1         |N                 |158         |236         |1           |25.4       |1.0  |0.5    |6.08      |0.0         |1.0                  |36.48       |2.5                 |2024-04-05 14:28:23.771418|2024-04-05 14:28:23.771418|\n",
      "|1       |2023-07-01 00:08:26 |2023-07-01 00:32:55  |2              |2.1          |1         |N                 |142         |142         |2           |21.9       |3.5  |0.5    |0.0       |0.0         |1.0                  |26.9        |2.5                 |2024-04-05 14:28:23.771418|2024-04-05 14:28:23.771418|\n",
      "|1       |2023-07-01 00:43:13 |2023-07-01 00:53:54  |1              |2.4          |1         |N                 |142         |68          |1           |13.5       |3.5  |0.5    |3.7       |0.0         |1.0                  |22.2        |2.5                 |2024-04-05 14:28:23.771418|2024-04-05 14:28:23.771418|\n",
      "|2       |2023-07-01 00:05:07 |2023-07-01 00:10:03  |1              |1.2          |1         |N                 |170         |107         |1           |7.9        |1.0  |0.5    |0.0       |0.0         |1.0                  |12.9        |2.5                 |2024-04-05 14:28:23.771418|2024-04-05 14:28:23.771418|\n",
      "|2       |2023-07-01 00:29:24 |2023-07-01 00:35:35  |1              |0.81         |1         |N                 |68          |249         |1           |7.2        |1.0  |0.5    |2.44      |0.0         |1.0                  |14.64       |2.5                 |2024-04-05 14:28:23.771418|2024-04-05 14:28:23.771418|\n",
      "|2       |2023-07-01 00:55:31 |2023-07-01 01:03:02  |1              |1.32         |1         |N                 |170         |161         |2           |9.3        |1.0  |0.5    |0.0       |0.0         |1.0                  |14.3        |2.5                 |2024-04-05 14:28:23.771418|2024-04-05 14:28:23.771418|\n",
      "|1       |2023-07-01 00:02:32 |2023-07-01 00:09:44  |2              |0.9          |1         |N                 |142         |230         |1           |8.6        |3.5  |0.5    |2.7       |0.0         |1.0                  |16.3        |2.5                 |2024-04-05 14:28:23.771418|2024-04-05 14:28:23.771418|\n",
      "|1       |2023-07-01 00:12:01 |2023-07-01 00:16:54  |2              |0.5          |1         |N                 |249         |158         |1           |5.1        |3.5  |0.5    |2.0       |0.0         |1.0                  |12.1        |2.5                 |2024-04-05 14:28:23.771418|2024-04-05 14:28:23.771418|\n",
      "|1       |2023-07-01 00:20:37 |2023-07-01 00:27:03  |2              |1.0          |1         |N                 |158         |234         |1           |7.9        |3.5  |0.5    |2.55      |0.0         |1.0                  |15.45       |2.5                 |2024-04-05 14:28:23.771418|2024-04-05 14:28:23.771418|\n",
      "+--------+--------------------+---------------------+---------------+-------------+----------+------------------+------------+------------+------------+-----------+-----+-------+----------+------------+---------------------+------------+--------------------+--------------------------+--------------------------+\n",
      "only showing top 20 rows\n",
      "\n"
     ]
    }
   ],
   "source": [
    "df.show(false)"
   ]
  },
  {
   "cell_type": "code",
   "execution_count": 5,
   "id": "2aa81a73-4b88-4e08-8719-bfe60fcba971",
   "metadata": {},
   "outputs": [
    {
     "data": {
      "text/plain": [
       "import org.apache.spark.sql.functions._\n",
       "import org.apache.spark.sql.types.LongType\n"
      ]
     },
     "execution_count": 5,
     "metadata": {},
     "output_type": "execute_result"
    }
   ],
   "source": [
    "import org.apache.spark.sql.functions._\n",
    "import org.apache.spark.sql.types.LongType\n",
    "\n",
    "df.write.mode(\"overwrite\").format(\"delta\").saveAsTable(\"my_trips_with_dv\")"
   ]
  },
  {
   "cell_type": "code",
   "execution_count": 6,
   "id": "942682b6-f23d-4957-8826-cc2efc598912",
   "metadata": {},
   "outputs": [
    {
     "data": {
      "text/plain": [
       "res2: org.apache.spark.sql.DataFrame = []\n"
      ]
     },
     "execution_count": 6,
     "metadata": {},
     "output_type": "execute_result"
    }
   ],
   "source": [
    "spark.sql(\"ALTER TABLE my_trips_with_dv SET TBLPROPERTIES ('delta.enableDeletionVectors' = true);\")"
   ]
  },
  {
   "cell_type": "code",
   "execution_count": 8,
   "id": "158c63b6-2321-4f08-b8c7-70907a41eb45",
   "metadata": {
    "scrolled": true
   },
   "outputs": [
    {
     "name": "stdout",
     "output_type": "stream",
     "text": [
      "+-------+-----------------------+------+--------+---------------------------------+-----------------------------------------------------------------------------+----+--------+---------+-----------+--------------+-------------+----------------------------------------------------------------------+------------+-----------------------------------+\n",
      "|version|timestamp              |userId|userName|operation                        |operationParameters                                                          |job |notebook|clusterId|readVersion|isolationLevel|isBlindAppend|operationMetrics                                                      |userMetadata|engineInfo                         |\n",
      "+-------+-----------------------+------+--------+---------------------------------+-----------------------------------------------------------------------------+----+--------+---------+-----------+--------------+-------------+----------------------------------------------------------------------+------------+-----------------------------------+\n",
      "|1      |2024-04-05 14:29:11.446|NULL  |NULL    |SET TBLPROPERTIES                |{properties -> {\"delta.enableDeletionVectors\":\"true\"}}                       |NULL|NULL    |NULL     |0          |Serializable  |true         |{}                                                                    |NULL        |Apache-Spark/3.5.1 Delta-Lake/3.1.0|\n",
      "|0      |2024-04-05 14:28:46.799|NULL  |NULL    |CREATE OR REPLACE TABLE AS SELECT|{isManaged -> true, description -> NULL, partitionBy -> [], properties -> {}}|NULL|NULL    |NULL     |NULL       |Serializable  |false        |{numFiles -> 5, numOutputRows -> 8695941, numOutputBytes -> 189451475}|NULL        |Apache-Spark/3.5.1 Delta-Lake/3.1.0|\n",
      "+-------+-----------------------+------+--------+---------------------------------+-----------------------------------------------------------------------------+----+--------+---------+-----------+--------------+-------------+----------------------------------------------------------------------+------------+-----------------------------------+\n",
      "\n"
     ]
    }
   ],
   "source": [
    "spark.sql(\"DESCRIBE HISTORY my_trips_with_dv\").show(false)"
   ]
  },
  {
   "cell_type": "code",
   "execution_count": 9,
   "id": "379a9e13-a439-4d6a-be04-f0551a555745",
   "metadata": {},
   "outputs": [
    {
     "data": {
      "text/plain": [
       "df2: org.apache.spark.sql.DataFrame = [VendorID: int, tpep_pickup_datetime: timestamp ... 18 more fields]\n"
      ]
     },
     "execution_count": 9,
     "metadata": {},
     "output_type": "execute_result"
    }
   ],
   "source": [
    "val df2 = \n",
    "(spark.read.schema(yellowSchema).parquet(\"sample_data/trips/yellow_tripdata_2023-07.parquet\").sample(0.001)\n",
    ".union(spark.read.schema(yellowSchema).parquet(\"sample_data/trips/yellow_tripdata_2023-08.parquet\")).sample(0.001)\n",
    ".union(spark.read.schema(yellowSchema).parquet(\"sample_data/trips/yellow_tripdata_2024-01.parquet\")).sample(0.001))\n",
    ".withColumn(\"insertion_ts\", current_timestamp()).withColumn(\"update_ts\", current_timestamp())\n"
   ]
  },
  {
   "cell_type": "code",
   "execution_count": 10,
   "id": "9d446c51-fcac-4751-9691-49d89b66c592",
   "metadata": {},
   "outputs": [],
   "source": [
    "DeltaTable\n",
    ".forName(\"my_trips_with_dv\")\n",
    ".as(\"oldData\")\n",
    "  .merge(\n",
    "    df2.as(\"newData\"),\n",
    "    \"oldData.VendorID = newData.VendorID AND oldData.tpep_pickup_datetime = newData.tpep_pickup_datetime AND oldData.tpep_dropoff_datetime = newData.tpep_dropoff_datetime\")\n",
    "  .whenMatched\n",
    "  .updateAll\n",
    "  .whenNotMatched\n",
    "  .insertAll\n",
    "  .execute()"
   ]
  },
  {
   "cell_type": "code",
   "execution_count": 11,
   "id": "7bd1e22e-fd10-4e85-8f1a-2a0f9050b82b",
   "metadata": {},
   "outputs": [
    {
     "name": "stdout",
     "output_type": "stream",
     "text": [
      "+-------+-----------------------+------+--------+---------------------------------+-----------------------------------------------------------------------------------------------------------------------------------------------------------------------------------------------------------------------------------------------------------------------------------------------------------------------+----+--------+---------+-----------+--------------+-------------+-------------------------------------------------------------------------------------------------------------------------------------------------------------------------------------------------------------------------------------------------------------------------------------------------------------------------------------------------------------------------------------------------------------------------------------------------------------------------------------------------------------------------------------------------------------------------------------------------------------------------------------------------------------------+------------+-----------------------------------+\n",
      "|version|timestamp              |userId|userName|operation                        |operationParameters                                                                                                                                                                                                                                                                                                    |job |notebook|clusterId|readVersion|isolationLevel|isBlindAppend|operationMetrics                                                                                                                                                                                                                                                                                                                                                                                                                                                                                                                                                                                                                                                   |userMetadata|engineInfo                         |\n",
      "+-------+-----------------------+------+--------+---------------------------------+-----------------------------------------------------------------------------------------------------------------------------------------------------------------------------------------------------------------------------------------------------------------------------------------------------------------------+----+--------+---------+-----------+--------------+-------------+-------------------------------------------------------------------------------------------------------------------------------------------------------------------------------------------------------------------------------------------------------------------------------------------------------------------------------------------------------------------------------------------------------------------------------------------------------------------------------------------------------------------------------------------------------------------------------------------------------------------------------------------------------------------+------------+-----------------------------------+\n",
      "|2      |2024-04-05 14:29:38.724|NULL  |NULL    |MERGE                            |{predicate -> [\"(((VendorID#3003 = VendorID#2818) AND (tpep_pickup_datetime#3004 = tpep_pickup_datetime#2819)) AND (tpep_dropoff_datetime#3005 = tpep_dropoff_datetime#2820))\"], matchedPredicates -> [{\"actionType\":\"update\"}], notMatchedPredicates -> [{\"actionType\":\"insert\"}], notMatchedBySourcePredicates -> []}|NULL|NULL    |NULL     |1          |Serializable  |false        |{numTargetRowsCopied -> 0, numTargetRowsDeleted -> 0, numTargetFilesAdded -> 6, numTargetBytesAdded -> 147201, numTargetBytesRemoved -> 0, numTargetDeletionVectorsAdded -> 3, numTargetRowsMatchedUpdated -> 3048, executionTimeMs -> 7495, numTargetRowsInserted -> 0, numTargetRowsMatchedDeleted -> 0, numTargetDeletionVectorsUpdated -> 0, scanTimeMs -> 2186, numTargetRowsUpdated -> 3048, numOutputRows -> 3048, numTargetDeletionVectorsRemoved -> 0, numTargetRowsNotMatchedBySourceUpdated -> 0, numTargetChangeFilesAdded -> 0, numSourceRows -> 2985, numTargetFilesRemoved -> 0, numTargetRowsNotMatchedBySourceDeleted -> 0, rewriteTimeMs -> 4099}|NULL        |Apache-Spark/3.5.1 Delta-Lake/3.1.0|\n",
      "|1      |2024-04-05 14:29:11.446|NULL  |NULL    |SET TBLPROPERTIES                |{properties -> {\"delta.enableDeletionVectors\":\"true\"}}                                                                                                                                                                                                                                                                 |NULL|NULL    |NULL     |0          |Serializable  |true         |{}                                                                                                                                                                                                                                                                                                                                                                                                                                                                                                                                                                                                                                                                 |NULL        |Apache-Spark/3.5.1 Delta-Lake/3.1.0|\n",
      "|0      |2024-04-05 14:28:46.799|NULL  |NULL    |CREATE OR REPLACE TABLE AS SELECT|{isManaged -> true, description -> NULL, partitionBy -> [], properties -> {}}                                                                                                                                                                                                                                          |NULL|NULL    |NULL     |NULL       |Serializable  |false        |{numFiles -> 5, numOutputRows -> 8695941, numOutputBytes -> 189451475}                                                                                                                                                                                                                                                                                                                                                                                                                                                                                                                                                                                             |NULL        |Apache-Spark/3.5.1 Delta-Lake/3.1.0|\n",
      "+-------+-----------------------+------+--------+---------------------------------+-----------------------------------------------------------------------------------------------------------------------------------------------------------------------------------------------------------------------------------------------------------------------------------------------------------------------+----+--------+---------+-----------+--------------+-------------+-------------------------------------------------------------------------------------------------------------------------------------------------------------------------------------------------------------------------------------------------------------------------------------------------------------------------------------------------------------------------------------------------------------------------------------------------------------------------------------------------------------------------------------------------------------------------------------------------------------------------------------------------------------------+------------+-----------------------------------+\n",
      "\n"
     ]
    }
   ],
   "source": [
    "spark.sql(\"DESCRIBE HISTORY my_trips_with_dv\").show(false)"
   ]
  },
  {
   "cell_type": "code",
   "execution_count": null,
   "id": "38d412aa-f39c-42b1-966e-3f67c7595425",
   "metadata": {},
   "outputs": [],
   "source": []
  }
 ],
 "metadata": {
  "kernelspec": {
   "display_name": "spylon-kernel",
   "language": "scala",
   "name": "spylon-kernel"
  },
  "language_info": {
   "codemirror_mode": "text/x-scala",
   "file_extension": ".scala",
   "help_links": [
    {
     "text": "MetaKernel Magics",
     "url": "https://metakernel.readthedocs.io/en/latest/source/README.html"
    }
   ],
   "mimetype": "text/x-scala",
   "name": "scala",
   "pygments_lexer": "scala",
   "version": "0.4.1"
  }
 },
 "nbformat": 4,
 "nbformat_minor": 5
}
